{
  "nbformat": 4,
  "nbformat_minor": 0,
  "metadata": {
    "colab": {
      "name": "Untitled1.ipynb",
      "provenance": []
    },
    "kernelspec": {
      "name": "python2",
      "display_name": "Python 2"
    },
    "accelerator": "GPU"
  },
  "cells": [
    {
      "cell_type": "code",
      "metadata": {
        "id": "iHr6M6y8IOt2"
      },
      "source": [
        "import numpy as np\n",
        "import PIL\n",
        "from PIL import Image\n",
        "from os import listdir\n",
        "from matplotlib import image\n",
        "import scipy.optimize as opt\n",
        "import math "
      ],
      "execution_count": 251,
      "outputs": []
    },
    {
      "cell_type": "code",
      "metadata": {
        "id": "ymj-PCKM_Ofq"
      },
      "source": [
        "def RandomInitialiseWeights(A,B):\n",
        "  epsilon_init = 0.12;\n",
        "  arr=np.random.rand(A,B)\n",
        "  arr=arr*2*epsilon_init-epsilon_init\n",
        "  return arr\n",
        "\n",
        "def sigmoid(z):\n",
        "  g=np.zeros(z.shape)\n",
        "  g=1/(1+np.exp(-z))\n",
        "  return g"
      ],
      "execution_count": 252,
      "outputs": []
    },
    {
      "cell_type": "code",
      "metadata": {
        "id": "6F6W6iTtXlFV"
      },
      "source": [
        "def CostFunction(nnParams):\n",
        "\n",
        "  #initialisation of ds required later in the function\n",
        "\n",
        "  nnParams=np.array(nnParams,dtype=float)\n",
        "\n",
        "  Theta1=nnParams[0:(HIDDEN1_LAYER_SIZE*(INPUT_LAYER_SIZE+1))]\n",
        "  Theta1=Theta1.reshape((HIDDEN1_LAYER_SIZE,INPUT_LAYER_SIZE+1))\n",
        "\n",
        "\n",
        "  Theta2=nnParams[ HIDDEN1_LAYER_SIZE*(INPUT_LAYER_SIZE+1) :nnParams.size]\n",
        "  Theta2=Theta2.reshape((NUM_LABELS,HIDDEN1_LAYER_SIZE+1))\n",
        "\n",
        "  #Fake Thetas for regularisation\n",
        "\n",
        "  Temp_Theta1 = Theta1 \n",
        "  Temp_Theta2 = Theta2\n",
        "\n",
        "  for i in range(Theta1.shape[0]):\n",
        "    Temp_Theta1[i][0]=0\n",
        "  \n",
        "  for i in range(Theta2.shape[0]):\n",
        "    Temp_Theta2[i][0]=0\n",
        " \n",
        "  Temp_nnParams = np.concatenate( (Temp_Theta1.reshape(Theta1.size,1),Temp_Theta2.reshape(Theta2.size,1)),axis=0 ) #just for the regularisation part of the cost \n",
        "\n",
        "  #forward propogation for cost calculation\n",
        "\n",
        "  #calculating second layer units for all test cases\n",
        "\n",
        "  A2 = np.dot( Theta1 , X.transpose() )\n",
        "\n",
        "  A2 = sigmoid(A2)\n",
        "\n",
        "\n",
        "  A2 = np.concatenate( (np.ones((1,M)) , A2) , axis = 0 ) #creating bias unit in all test cases\n",
        "\n",
        "  #calculating third layer units/final output layer for all test cases\n",
        "\n",
        "  A3 = np.dot( Theta2 , A2 )\n",
        "\n",
        "  A3 = sigmoid(A3)\n",
        "\n",
        "  #We don't need bias unit for the final output layer\n",
        "\n",
        "  #calculating the cost for all the test cases considering all the classes output\n",
        "\n",
        "  Total_Cost = 0 \n",
        "\n",
        "  \n",
        "\n",
        "  for i in range(M) :\n",
        "\n",
        "    output_here = A3[:,i]\n",
        "    output_here = output_here.reshape( (output_here.size,1) )\n",
        "    true_output = Y[:,i]\n",
        "    true_output = true_output.reshape( (true_output.size,1) )\n",
        "\n",
        "    cost = -( true_output * (np.log(output_here)) + (1-true_output)* ( np.log( 1 - output_here ) ) )\n",
        "\n",
        "    Total_Cost = Total_Cost + np.sum(cost)\n",
        "\n",
        "  Total_Cost = ( Total_Cost/M ) + ( (Lambda/(2*M)) * np.sum( np.power(Temp_nnParams,2)   ))\n",
        "\n",
        "  \n",
        "  \n",
        "\n",
        "  #Now BackPropagation for Gradient of Weights\n",
        "\n",
        "  #print \"size of theta1 and theta2 are\",Theta1.shape,Theta2.shape\n",
        "\n",
        "  Cap_Delta1 = np.zeros(Theta1.shape)\n",
        "  Cap_Delta2 = np.zeros(Theta2.shape)\n",
        "\n",
        "  #print \"BACKWARD PPGN STARTED\"\n",
        "\n",
        "  for i in range(M) :\n",
        "\n",
        "    delta_3 = A3[:,i] - Y[:,i] \n",
        "    delta_3 = delta_3.reshape(10,1)\n",
        "\n",
        "    a2 = A2[:,i] \n",
        "    a2 = a2.reshape(A2.shape[0],1)\n",
        "\n",
        "    delta_2 = ( np.dot(Theta2.transpose(),delta_3) ) * a2 * (1-a2)\n",
        "\n",
        "    delta_2 = np.delete(delta_2,0,axis=0)\n",
        "\n",
        "    Cap_Delta2 = Cap_Delta2 + ( np.dot( delta_3 , a2.transpose() ) ) \n",
        "\n",
        "    x = X[i,:]\n",
        "    x = x.reshape(1 , x.size )\n",
        "\n",
        "    Cap_Delta1 = Cap_Delta1 + ( np.dot( delta_2 ,  x  ) )\n",
        "\n",
        "    #print \"TEST CASE \",i\n",
        "\n",
        "  #print \"BACKWARD PPGN DONE\"\n",
        "\n",
        "  #Now time for gradient calculation using these capital deltas\n",
        "\n",
        "  Theta2_Grad = ( Cap_Delta2/M ) + ( (Lambda/M) * Temp_Theta2 )\n",
        "  Theta1_Grad = ( Cap_Delta1/M ) + ( (Lambda/M) * Temp_Theta1 )\n",
        "\n",
        "  Theta2_Grad = Theta2_Grad.reshape( (Theta2_Grad.size) , 1 )\n",
        "  Theta1_Grad = Theta1_Grad.reshape( (Theta1_Grad.size) , 1 )\n",
        "\n",
        "  Gradient = np.concatenate( (Theta1_Grad,Theta2_Grad),axis=0 )\n",
        "\n",
        "  return Total_Cost,Gradient"
      ],
      "execution_count": 253,
      "outputs": []
    },
    {
      "cell_type": "markdown",
      "metadata": {
        "id": "y-2DBvfwXnwd"
      },
      "source": [
        "PREDICT FUNCTION"
      ]
    },
    {
      "cell_type": "code",
      "metadata": {
        "id": "GCiEBlIrXm9G"
      },
      "source": [
        "def predict(x):\n",
        "\n",
        "  A2 = np.dot( OPT_Theta1 , x.transpose() )\n",
        "\n",
        "  A2 = sigmoid(A2)\n",
        "\n",
        "  A2 = np.concatenate( (np.ones((1,1)) , A2) , axis = 0 ) \n",
        "\n",
        "  A3 = np.dot( OPT_Theta2 , A2 )\n",
        "\n",
        "  A3 = sigmoid(A3)\n",
        "  \n",
        "  maxi=-1\n",
        "  maxv=-1\n",
        "\n",
        "  #print A3\n",
        "\n",
        "  for i in range(A3.shape[0]):\n",
        "\n",
        "    if A3[i][0] > maxv :\n",
        "      maxv=A3[i][0]\n",
        "      maxi=i\n",
        "  \n",
        "  return maxi"
      ],
      "execution_count": 254,
      "outputs": []
    },
    {
      "cell_type": "code",
      "metadata": {
        "id": "SKxulO6KqDgg"
      },
      "source": [
        "def check_BP() :\n",
        "  global Lambda\n",
        "  prev=Lambda\n",
        "  Lambda=0\n",
        "  J,GRAD_BY_CF=CostFunction(initial_theta)\n",
        "\n",
        "  GRAD_MANNUAL=np.zeros(GRAD_BY_CF.shape)\n",
        "\n",
        "  initial_theta2=np.zeros(initial_theta.shape)\n",
        "  e = 1e-4\n",
        "  RelDiff=0\n",
        "\n",
        "  for i in range(10):\n",
        "    initial_theta2[i][0] = e \n",
        "    J1,G1= CostFunction( initial_theta+initial_theta2 ) \n",
        "    J2,G1= CostFunction( initial_theta-initial_theta2 )\n",
        "    GRAD_MANNUAL[i][0]=(J1-J2)/(2*e)\n",
        "    RelDiff += abs( GRAD_MANNUAL[i][0] - GRAD_BY_CF[i][0] )\n",
        "    initial_theta2[i][0] = 0\n",
        "    \n",
        "  print \"RELATIVE DIFFERENC IN GRADIENT : \",RelDiff\n",
        "\n",
        "  Lambda=prev\n",
        "\n"
      ],
      "execution_count": 255,
      "outputs": []
    },
    {
      "cell_type": "code",
      "metadata": {
        "id": "_HKTPT-fcxel"
      },
      "source": [
        "#!unzip trainingSet.zip"
      ],
      "execution_count": 256,
      "outputs": []
    },
    {
      "cell_type": "markdown",
      "metadata": {
        "id": "HLs71B8dc1cO"
      },
      "source": [
        "LOADING AND VISUALISING THE DATASET"
      ]
    },
    {
      "cell_type": "code",
      "metadata": {
        "id": "fVVYRsaNd35f",
        "colab": {
          "base_uri": "https://localhost:8080/"
        },
        "outputId": "8b373346-5681-47a9-def0-50c3d000a67a"
      },
      "source": [
        "\n",
        "X2=[] #for the parameters/features of the dataset\n",
        "Y2=[] #the output value of the dataset\n",
        "print \"Getting Data\"\n",
        "mp={}\n",
        "for digit in range(10):\n",
        "  \n",
        "  count2=0\n",
        "  for filename in listdir(\"/content/trainingSet/\"+str(digit)):\n",
        "    count2+=1\n",
        "    if count2>=100 :\n",
        "      break\n",
        "\n",
        "    #load image\n",
        "    img_here = Image.open(\"/content/trainingSet/\"+str(digit)+\"/\"+filename)\n",
        "    img_here = img_here.convert(mode='L')\n",
        "    img_here.thumbnail((20,20))\n",
        "    x_features=np.array(img_here,dtype=float)\n",
        "    #print x_features.shape\n",
        "    x_features=x_features.flatten()\n",
        "    #print x_features.shape\n",
        "    x_features /= 255.0\n",
        "    x_features=x_features.tolist()\n",
        "    x_features.insert(0,1)\n",
        "    X2.append(x_features)\n",
        "    Y2.append(int(digit))\n",
        "\n",
        "print \"Data Stored Locally\""
      ],
      "execution_count": 257,
      "outputs": [
        {
          "output_type": "stream",
          "text": [
            "Getting Data\n",
            "Data Stored Locally\n"
          ],
          "name": "stdout"
        }
      ]
    },
    {
      "cell_type": "markdown",
      "metadata": {
        "id": "nBdhBZxacZWG"
      },
      "source": [
        "SETTING UP PARAMETERS \n"
      ]
    },
    {
      "cell_type": "code",
      "metadata": {
        "id": "otwUBF2ycKeb",
        "colab": {
          "base_uri": "https://localhost:8080/"
        },
        "outputId": "8736a6bd-c5d6-4bff-d64b-15065ecb9f4b"
      },
      "source": [
        "print \"INITIALISING THE PARAMETERS\"\n",
        "\n",
        "Y=np.array(Y2)\n",
        "X=np.array(X2)\n",
        "\n",
        "M=X.shape[0]\n",
        "INPUT_LAYER_SIZE = len(X[0])-1\n",
        "HIDDEN1_LAYER_SIZE = 26\n",
        "NUM_LABELS = 10 \n",
        "INITIAL_THETA1 = RandomInitialiseWeights(HIDDEN1_LAYER_SIZE,INPUT_LAYER_SIZE+1)\n",
        "INITIAL_THETA2 = RandomInitialiseWeights(NUM_LABELS,HIDDEN1_LAYER_SIZE+1)\n",
        "INITIAL_THETA1 = INITIAL_THETA1.reshape(INITIAL_THETA1.size,1)\n",
        "INITIAL_THETA2 = INITIAL_THETA2.reshape(INITIAL_THETA2.size,1)\n",
        "initial_theta = np.concatenate((INITIAL_THETA1,INITIAL_THETA2),axis=0)\n",
        "Lambda=0.2\n",
        "Y_new=np.zeros((M,10),dtype=np.float)\n",
        "\n",
        "for i in range(M):\n",
        "  Y_new[i][Y[i]]=1 \n",
        "\n",
        "Y=Y_new.transpose()\n",
        "\n",
        "print \"PARAMETERS INITIALISED\"\n",
        "#print M\n",
        "\n"
      ],
      "execution_count": 264,
      "outputs": [
        {
          "output_type": "stream",
          "text": [
            "INITIALISING THE PARAMETERS\n",
            "PARAMETERS INITIALISED\n"
          ],
          "name": "stdout"
        }
      ]
    },
    {
      "cell_type": "markdown",
      "metadata": {
        "id": "-pKbKXqYqEj6"
      },
      "source": [
        "CHECK BP"
      ]
    },
    {
      "cell_type": "code",
      "metadata": {
        "colab": {
          "base_uri": "https://localhost:8080/"
        },
        "id": "Ak6XDg5xtAEb",
        "outputId": "f72b8194-7c18-44a7-ec44-15e3fcd8036c"
      },
      "source": [
        "check_BP()"
      ],
      "execution_count": 259,
      "outputs": [
        {
          "output_type": "stream",
          "text": [
            "RELATIVE DIFFERENC IN GRADIENT :  0.018625603289845815\n"
          ],
          "name": "stdout"
        }
      ]
    },
    {
      "cell_type": "markdown",
      "metadata": {
        "id": "D-JvFDbbcNdu"
      },
      "source": [
        "TRAINING NEURAL NETWORK"
      ]
    },
    {
      "cell_type": "code",
      "metadata": {
        "id": "i_ftEuYOcrvN",
        "colab": {
          "base_uri": "https://localhost:8080/"
        },
        "outputId": "ac119b17-a69a-4e54-90ba-0def55abe0c6"
      },
      "source": [
        "print \"TRAINING NEURAL NETWORK\"\n",
        "\n",
        "OPT_THETA = opt.fmin_tnc(func=CostFunction, x0=initial_theta,maxfun=100)\n"
      ],
      "execution_count": 260,
      "outputs": [
        {
          "output_type": "stream",
          "text": [
            "TRAINING NEURAL NETWORK\n"
          ],
          "name": "stdout"
        }
      ]
    },
    {
      "cell_type": "markdown",
      "metadata": {
        "id": "-Wwl3EWMYP9h"
      },
      "source": [
        "ACCURACY\n"
      ]
    },
    {
      "cell_type": "code",
      "metadata": {
        "colab": {
          "base_uri": "https://localhost:8080/"
        },
        "id": "6IgNSZiwUS3e",
        "outputId": "56561af4-eb15-41e2-f2eb-23ae6528850c"
      },
      "source": [
        "opt2 = OPT_THETA[0]\n",
        "opt2 = np.array(opt2)\n",
        "opt2 = opt2.reshape(opt2.size,1)\n",
        "\n",
        "J1 = CostOnly(initial_theta)\n",
        "print \"COST BEFORE \",J1\n",
        "J = CostOnly(opt2)\n",
        "print \"COST AFTER OPTM \",J\n",
        "\n",
        "OPT_Theta1=opt2[0:(HIDDEN1_LAYER_SIZE*(INPUT_LAYER_SIZE+1))]\n",
        "OPT_Theta1=OPT_Theta1.reshape((HIDDEN1_LAYER_SIZE,INPUT_LAYER_SIZE+1))\n",
        "\n",
        "OPT_Theta2=opt2[ HIDDEN1_LAYER_SIZE*(INPUT_LAYER_SIZE+1) :len(opt2)]\n",
        "OPT_Theta2=OPT_Theta2.reshape((NUM_LABELS,HIDDEN1_LAYER_SIZE+1))\n",
        "\n",
        "\n",
        "\n",
        "correct_ans=0.0\n",
        "\n",
        "for i in range(M):\n",
        "\n",
        "  x = X[i,:]\n",
        "  x = x.reshape(1,x.size)\n",
        "  predicted_digit = predict(x)\n",
        "  \n",
        "  for j in range(10):\n",
        "    if Y[j][i] == 1 :\n",
        "      correct_digit = j \n",
        "      break \n",
        "  \n",
        "  #print i,predicted_digit,correct_digit\n",
        "  if predicted_digit == correct_digit :\n",
        "    correct_ans += 1 \n",
        "\n",
        "#print correct_ans\n",
        "print \"ACCURACY IN TRAINING SET\",(correct_ans/M)*100\n",
        "\n"
      ],
      "execution_count": 261,
      "outputs": [
        {
          "output_type": "stream",
          "text": [
            "COST BEFORE  6.80790101029469\n",
            "COST AFTER OPTM  0.30514469302912756\n",
            "ACCURACY IN TRAINING SET 94.0404040404\n"
          ],
          "name": "stdout"
        }
      ]
    },
    {
      "cell_type": "code",
      "metadata": {
        "id": "KKNtpr3JKvPW"
      },
      "source": [
        "\n",
        "#!unzip testSet.zip"
      ],
      "execution_count": 262,
      "outputs": []
    },
    {
      "cell_type": "code",
      "metadata": {
        "id": "5ku1rs8negc8"
      },
      "source": [
        "import pandas as pd \n",
        "pd.DataFrame(opt2).to_csv(\"/content/BOTHINONETHETA.csv\")"
      ],
      "execution_count": 271,
      "outputs": []
    },
    {
      "cell_type": "markdown",
      "metadata": {
        "id": "dqFR8enEmZdf"
      },
      "source": [
        "ACCURACY IN TEST SET\n"
      ]
    },
    {
      "cell_type": "code",
      "metadata": {
        "colab": {
          "base_uri": "https://localhost:8080/",
          "height": 311
        },
        "id": "MKsUpNYjJnXZ",
        "outputId": "04517553-0536-46b7-dbf8-f7039121c129"
      },
      "source": [
        "from random import shuffle\n",
        "from glob import glob\n",
        "files = glob(r\"/content/testSet\")\n",
        "shuffle(files)\n",
        "\n",
        "count2=0.0\n",
        "correct_ans=0.0\n",
        "for filename in listdir(\"/content/testSet\"):\n",
        "  count2+=1\n",
        "  if count2>= 20:\n",
        "    break\n",
        "  img_here = Image.open(\"/content/testSet/\"+filename)\n",
        "  display(img_here)\n",
        "  img_here = img_here.convert(mode='L')\n",
        "  img_here.thumbnail((20,20))\n",
        "  x_features=np.array(img_here,dtype=float)\n",
        "  #print x_features.shape\n",
        "  x_features=x_features.flatten()\n",
        "  #print x_features.shape\n",
        "  x_features /= 255.0\n",
        "  x_features=x_features.tolist()\n",
        "  x_features.insert(0,1)\n",
        "  x_features = np.array(x_features)\n",
        "  x_features = x_features.reshape(1,x_features.size)\n",
        "  \n",
        "  print predict(x_features)\n",
        "  print \"IF CORRECT : 1 \\nIF WRONG : 0 \\nTO EXIT : 2\"\n",
        "  check = int(raw_input())\n",
        "  if check == 1 :\n",
        "    correct_ans+=1\n",
        "  elif check == 2 :\n",
        "    count2-=1\n",
        "    break \n",
        "\n",
        "#print correct_ans\n",
        "print (correct_ans/count2)*100"
      ],
      "execution_count": 263,
      "outputs": [
        {
          "output_type": "display_data",
          "data": {
            "image/png": "[encoded data removed]",
            "text/plain": [
              "<PIL.JpegImagePlugin.JpegImageFile image mode=L size=28x28 at 0x7F6B5BC67B90>"
            ]
          },
          "metadata": {
            "tags": []
          }
        },
        {
          "output_type": "stream",
          "text": [
            "9\n",
            "IF CORRECT : 1 \n",
            "IF WRONG : 0 \n",
            "TO EXIT : 2\n",
            "2\n"
          ],
          "name": "stdout"
        },
        {
          "output_type": "error",
          "ename": "ZeroDivisionError",
          "evalue": "ignored",
          "traceback": [
            "\u001b[0;31m\u001b[0m",
            "\u001b[0;31mZeroDivisionError\u001b[0mTraceback (most recent call last)",
            "\u001b[0;32m<ipython-input-263-2c3dbe27b114>\u001b[0m in \u001b[0;36m<module>\u001b[0;34m()\u001b[0m\n\u001b[1;32m     34\u001b[0m \u001b[0;34m\u001b[0m\u001b[0m\n\u001b[1;32m     35\u001b[0m \u001b[0;31m#print correct_ans\u001b[0m\u001b[0;34m\u001b[0m\u001b[0;34m\u001b[0m\u001b[0m\n\u001b[0;32m---> 36\u001b[0;31m \u001b[0;32mprint\u001b[0m \u001b[0;34m(\u001b[0m\u001b[0mcorrect_ans\u001b[0m\u001b[0;34m/\u001b[0m\u001b[0mcount2\u001b[0m\u001b[0;34m)\u001b[0m\u001b[0;34m*\u001b[0m\u001b[0;36m100\u001b[0m\u001b[0;34m\u001b[0m\u001b[0m\n\u001b[0m",
            "\u001b[0;31mZeroDivisionError\u001b[0m: float division by zero"
          ]
        }
      ]
    }
  ]
}